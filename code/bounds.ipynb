{
 "cells": [
  {
   "cell_type": "code",
   "execution_count": 1,
   "source": [
    "# Calcula los límites extremos de México\r\n",
    "# y de la Cuenca del Valle de México.\r\n",
    "\r\n",
    "import geopandas as gpd"
   ],
   "outputs": [],
   "metadata": {}
  },
  {
   "cell_type": "code",
   "execution_count": 2,
   "source": [
    "path = \"../data/Cuencas/\"\r\n",
    "fname = \"Regiones_Hidrologicas_Administrativas/rha250kgw.shp\"\r\n",
    "\r\n",
    "# Se cargan las regiones hidrológico administrativas.\r\n",
    "gdf = gpd.read_file(path + fname)\r\n",
    "\r\n",
    "# Se selecciona la Cuenca del Valle de México.\r\n",
    "bounds = gdf[gdf[\"ORG_CUENCA\"] ==\r\n",
    "    \"Aguas del Valle de México\"].bounds\r\n",
    "\r\n",
    "# Límites extremos de la Cuenca del Valle de México.\r\n",
    "print(\"lon1: \" f\"{bounds.iat[0, 0]:.3f}\")\r\n",
    "print(\"lon2: \" f\"{bounds.iat[0, 2]:.3f}\")\r\n",
    "print(\"lat1:  \" f\"{bounds.iat[0, 1]:.3f}\")\r\n",
    "print(\"lat2:  \" f\"{bounds.iat[0, 3]:.3f}\")"
   ],
   "outputs": [
    {
     "output_type": "stream",
     "name": "stdout",
     "text": [
      "lon1: -99.749\n",
      "lon2: -98.194\n",
      "lat1:  19.049\n",
      "lat2:  20.776\n"
     ]
    }
   ],
   "metadata": {}
  },
  {
   "cell_type": "code",
   "execution_count": 3,
   "source": [
    "fname = \"Contorno de México 1-4,000,000/conto4mgw.shp\"\n",
    "\n",
    "# Se carga el contorno de México.\n",
    "gdf = gpd.read_file(path + fname)\n",
    "bounds = gdf.bounds\n",
    "\n",
    "# Límites extremos de México.\n",
    "print(\"lon1: \" f\"{bounds.iloc[:, 0].min():.3f}\")\n",
    "print(\"lon2:  \" f\"{bounds.iloc[:, 2].max():.3f}\")\n",
    "print(\"lat1:   \" f\"{bounds.iloc[:, 1].min():.3f}\")\n",
    "print(\"lat2:   \" f\"{bounds.iloc[:, 3].max():.3f}\")"
   ],
   "outputs": [
    {
     "output_type": "stream",
     "name": "stdout",
     "text": [
      "lon1: -118.390\n",
      "lon2:  -86.660\n",
      "lat1:   14.566\n",
      "lat2:   32.737\n"
     ]
    }
   ],
   "metadata": {}
  }
 ],
 "metadata": {
  "orig_nbformat": 4,
  "language_info": {
   "name": "python",
   "version": "3.7.10",
   "mimetype": "text/x-python",
   "codemirror_mode": {
    "name": "ipython",
    "version": 3
   },
   "pygments_lexer": "ipython3",
   "nbconvert_exporter": "python",
   "file_extension": ".py"
  },
  "kernelspec": {
   "name": "python3",
   "display_name": "Python 3.7.10 64-bit ('gv': conda)"
  },
  "interpreter": {
   "hash": "2206c12f2e225bd8aec3858494f24350760006a4073c903c59b5ed584a1e195d"
  }
 },
 "nbformat": 4,
 "nbformat_minor": 2
}