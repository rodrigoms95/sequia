{
 "cells": [
  {
   "cell_type": "code",
   "execution_count": 1,
   "source": [
    "import pandas as pd\r\n",
    "import numpy as np\r\n",
    "\r\n",
    "#import geoviews as gv\r\n",
    "import geopandas as gpd"
   ],
   "outputs": [],
   "metadata": {}
  },
  {
   "cell_type": "code",
   "execution_count": 12,
   "source": [
    "path = \"../data/Cuencas/\"\r\n",
    "\r\n",
    "fname = \"Regiones_Hidrologicas_Administrativas/rha250kgw.shp\"\r\n",
    "\r\n",
    "# Se cargan las regiones hidrológico administrativas.\r\n",
    "gdf = gpd.read_file(path + fname)\r\n",
    "\r\n",
    "# Se selecciona la Cuenca del Valle de México.\r\n",
    "bounds = gdf[gdf[\"ORG_CUENCA\"] ==\r\n",
    "    \"Aguas del Valle de México\"].bounds\r\n",
    "\r\n",
    "print(\"lon1: \" f\"{bounds.iat[0, 0]:.2f}\")\r\n",
    "print(\"lon2: \" f\"{bounds.iat[0, 2]:.2f}\")\r\n",
    "print(\"lat1:  \" f\"{bounds.iat[0, 1]:.2f}\")\r\n",
    "print(\"lat2:  \" f\"{bounds.iat[0, 3]:.2f}\")"
   ],
   "outputs": [
    {
     "output_type": "stream",
     "name": "stdout",
     "text": [
      "lon1: -99.75\n",
      "lon2: -98.19\n",
      "lat1:  19.05\n",
      "lat2:  20.78\n"
     ]
    }
   ],
   "metadata": {}
  },
  {
   "cell_type": "code",
   "execution_count": 20,
   "source": [
    "fname = \"Contorno de México 1-4,000,000/conto4mgw.shp\"\r\n",
    "\r\n",
    "gdf = gpd.read_file(path + fname)\r\n",
    "bounds = gdf.bounds\r\n",
    "\r\n",
    "print(\"lon1: \" f\"{bounds.iloc[:, 0].min():.2f}\")\r\n",
    "print(\"lon2:  \" f\"{bounds.iloc[:, 2].max():.2f}\")\r\n",
    "print(\"lat1:   \" f\"{bounds.iloc[:, 1].min():.2f}\")\r\n",
    "print(\"lat2:   \" f\"{bounds.iloc[:, 3].max():.2f}\")"
   ],
   "outputs": [
    {
     "output_type": "stream",
     "name": "stdout",
     "text": [
      "lon1: -118.39\n",
      "lon2:  -86.66\n",
      "lat1:   14.57\n",
      "lat2:   32.74\n"
     ]
    }
   ],
   "metadata": {}
  }
 ],
 "metadata": {
  "orig_nbformat": 4,
  "language_info": {
   "name": "python",
   "version": "3.7.10",
   "mimetype": "text/x-python",
   "codemirror_mode": {
    "name": "ipython",
    "version": 3
   },
   "pygments_lexer": "ipython3",
   "nbconvert_exporter": "python",
   "file_extension": ".py"
  },
  "kernelspec": {
   "name": "python3",
   "display_name": "Python 3.7.10 64-bit ('gv2': conda)"
  },
  "interpreter": {
   "hash": "61e5a3f3aa95a130d195f400b073dbe78201ba87669bc387338808a06a837447"
  }
 },
 "nbformat": 4,
 "nbformat_minor": 2
}