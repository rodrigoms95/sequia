{
 "cells": [
  {
   "cell_type": "code",
   "execution_count": null,
   "source": [
    "import pandas as pd\n",
    "import numpy as np\n",
    "import xarray as xr\n",
    "\n",
    "import matplotlib.pyplot as plt"
   ],
   "outputs": [],
   "metadata": {}
  },
  {
   "cell_type": "code",
   "execution_count": null,
   "source": [
    "path = \"../data/CRU/\"\n",
    "fname = \"mexico_cru_ts4.05.1901.2020.pre.dat.nc\"\n",
    "\n",
    "# Se carga la precipitación y se recorta la zona de estudio.\n",
    "pre_xr = xr.load_dataset(path + fname)\n",
    "pre_xr = pre_xr[dict(lat = slice(10, 12), lon = slice(39, 41))]"
   ],
   "outputs": [],
   "metadata": {}
  },
  {
   "cell_type": "code",
   "execution_count": null,
   "source": [
    "# Se promedia espacialmente y se retira stn, que no se requiere.\n",
    "pre_df = pre_xr.mean(dim = \"lat\").mean(dim = \"lon\").to_dataframe().drop(\"stn\", axis = 1)\n",
    "# Se seleccionan los datos a partir de 1979.\n",
    "pre_df = pre_df[pre_df.index > \"1979\"]\n",
    "# Se suman los valores para cada mes.\n",
    "pre_df = pre_df.resample(\"M\").sum()\n",
    "# Se obtienen los nombres de los meses.\n",
    "pre_df[\"Mes\"] = pre_df.index.month_name(\"es_MX.ISO8859-1\")\n",
    "# Se cambia el formato del índice para que no incluya el día.\n",
    "pre_df.index = pre_df.index.to_period(\"M\")\n",
    "\n",
    "pre_xr.close()"
   ],
   "outputs": [],
   "metadata": {}
  },
  {
   "cell_type": "code",
   "execution_count": null,
   "source": [
    "# Se grafica el promedio mensual.\n",
    "pre_df.groupby(pre_df.index.month).mean().plot.bar(legend = None)\n",
    "\n",
    "# Se configura la gráfica.\n",
    "plt.xlabel(\"Mes\")\n",
    "plt.ylabel(\"Precipitación [mm]\")\n",
    "plt.title(\n",
    "    \"Precipitación media en la\\nCuenca del Valle de México\",\n",
    "    {'fontsize': 18}\n",
    "    )\n",
    "plt.xticks(range(0,12), pre_df[\"Mes\"][0:12], rotation=30)\n",
    "\n",
    "# Se muesta la gráfica.\n",
    "plt.show()"
   ],
   "outputs": [],
   "metadata": {}
  }
 ],
 "metadata": {
  "orig_nbformat": 4,
  "language_info": {
   "name": "python",
   "version": "3.7.10",
   "mimetype": "text/x-python",
   "codemirror_mode": {
    "name": "ipython",
    "version": 3
   },
   "pygments_lexer": "ipython3",
   "nbconvert_exporter": "python",
   "file_extension": ".py"
  },
  "kernelspec": {
   "name": "python3",
   "display_name": "Python 3.7.10 64-bit ('gv': conda)"
  },
  "interpreter": {
   "hash": "2206c12f2e225bd8aec3858494f24350760006a4073c903c59b5ed584a1e195d"
  }
 },
 "nbformat": 4,
 "nbformat_minor": 2
}