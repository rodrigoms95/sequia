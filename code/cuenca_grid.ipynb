{
 "cells": [
  {
   "cell_type": "code",
   "execution_count": null,
   "source": [
    "import pandas as pd\r\n",
    "import numpy as np\r\n",
    "\r\n",
    "import geoviews as gv\r\n",
    "import geopandas as gpd\r\n",
    "\r\n",
    "gv.extension(\"matplotlib\")\r\n",
    "gv.output(size = 150)"
   ],
   "outputs": [],
   "metadata": {}
  },
  {
   "cell_type": "code",
   "execution_count": null,
   "source": [
    "fdir_d = \"../data/Cuencas/Regiones_Hidrologicas_Administrativas/\"\r\n",
    "fdir_r = \"../results/\"\r\n",
    "fname = \"rha250kgw.shp\"\r\n",
    "\r\n",
    "# Se cargan las regiones hidrológico administrativas.\r\n",
    "gdf = gpd.read_file(fdir_d + fname)\r\n",
    "# Se obtiene el contorno de las cuencas-\r\n",
    "gdf[\"boundary\"] = gdf.boundary\r\n",
    "\r\n",
    "# Se selecciona la Cuenca del Valle de México.\r\n",
    "cuenca = gv.Path(\r\n",
    "    gdf[gdf[\"ORG_CUENCA\"] == \"Aguas del Valle de México\"]).opts(\r\n",
    "    color = \"black\")"
   ],
   "outputs": [],
   "metadata": {}
  },
  {
   "cell_type": "code",
   "execution_count": null,
   "source": [
    "# Número de puntos de grid a revisar en dirección de la longitud y la latitud.\r\n",
    "n = 4\r\n",
    "\r\n",
    "lon = np.empty((1, n))\r\n",
    "lat = np.empty((n, 1))\r\n",
    "lonp = np.empty((1, n))\r\n",
    "latp = np.empty((n, 1))\r\n",
    "\r\n",
    "# Pivotes iniciales de lon y lat.\r\n",
    "lon_0 = -99.75\r\n",
    "lat_0 = 20.75\r\n",
    "# Número de punto de grid con respecto a los archivos mexico_cru.\r\n",
    "lonp_0 = 38\r\n",
    "latp_0 = 12\r\n",
    "\r\n",
    "# Se genera la lista de longitudes y latitudes cada 0.5°.\r\n",
    "for i in range(0,n):\r\n",
    "    lon[0, i] = lon_0 + 0.5 * i\r\n",
    "    lat[i, 0] = lat_0 - 0.5 * i\r\n",
    "    lonp[0, i] = lonp_0 + 1 * i\r\n",
    "    latp[i, 0] = latp_0 - 1 * i\r\n",
    "\r\n",
    "# Se genera la malla.\r\n",
    "lons = np.repeat(lon, n, axis = 0)\r\n",
    "lats = np.repeat(lat, n, axis = 1)\r\n",
    "lons_p = np.repeat(lonp, n, axis = 0)\r\n",
    "lats_p = np.repeat(latp, n, axis = 1)\r\n",
    "\r\n",
    "# Se concatenan y crean pares de lon y lat en toda la malla.\r\n",
    "points = list(zip(lons.flatten(), lats.flatten(),\r\n",
    "    lons_p.flatten(), lats_p.flatten()))\r\n",
    "\r\n",
    "# Se convierten a puntos de geoviews.\r\n",
    "points_gv = [gv.Points(x).opts(color = \"black\") for x in points]"
   ],
   "outputs": [],
   "metadata": {}
  },
  {
   "cell_type": "code",
   "execution_count": null,
   "source": [
    "carre = []\r\n",
    "\r\n",
    "# Se crea cadena wkt de perímetro de área de influencia de los puntos de grid.\r\n",
    "for i, element in enumerate(points):\r\n",
    "    carre.append(\"POLYGON((\"\r\n",
    "        + str(element[0] - 0.25) + \" \" + str(element[1] - 0.25) + \", \"\r\n",
    "        + str(element[0] - 0.25) + \" \" + str(element[1] + 0.25) + \", \"\r\n",
    "        + str(element[0] + 0.25) + \" \" + str(element[1] + 0.25) + \", \"\r\n",
    "        + str(element[0] + 0.25) + \" \" + str(element[1] - 0.25) + \", \"\r\n",
    "        + str(element[0] - 0.25) + \" \" + str(element[1] - 0.25) + \"))\")"
   ],
   "outputs": [],
   "metadata": {}
  },
  {
   "cell_type": "code",
   "execution_count": null,
   "source": [
    "# Se crea GeoDataFrame con geometría a partir de wkt.\r\n",
    "df_poly = pd.DataFrame({\"geometry\": carre})\r\n",
    "df_poly[\"geometry\"] = gpd.GeoSeries.from_wkt(df_poly[\"geometry\"])\r\n",
    "gdf_poly = gpd.GeoDataFrame(\r\n",
    "    df_poly, geometry = df_poly.geometry, crs = \"epsg:4326\")\r\n",
    "\r\n",
    "# Se proyecta la geometría a UTM y calcular área.\r\n",
    "gdf_poly[\"Area\"] = gdf_poly.to_crs(\"epsg:32633\").area"
   ],
   "outputs": [],
   "metadata": {}
  },
  {
   "cell_type": "code",
   "execution_count": null,
   "source": [
    "gdf_poly[\"Intersect\"] = np.nan\r\n",
    "\r\n",
    "for i in gdf_poly.index:\r\n",
    "    # Se calcula área de intersección entre áreas de influencia y cuenca.\r\n",
    "    overlay = gpd.overlay(\r\n",
    "        gdf[gdf[\"ORG_CUENCA\"] == \"Aguas del Valle de México\"],\r\n",
    "        gdf_poly[gdf_poly.index == i], how = \"intersection\"\r\n",
    "        )[\"geometry\"].to_crs(\"epsg:32633\").area\r\n",
    "\r\n",
    "    # Se asegura que haya ceros en el GeoDataFrame en caso de no haber\r\n",
    "    # intersección.\r\n",
    "    if len(overlay.index) == 0: \r\n",
    "        gdf_poly.loc[i, \"Intersect\"] = 0\r\n",
    "    else: \r\n",
    "        gdf_poly.loc[i, \"Intersect\"] = overlay[0]\r\n",
    "\r\n",
    "# Se calcula el porcentaje de intersección entre áreas de influencia\r\n",
    "# y cuenca.\r\n",
    "gdf_poly[\"Per_intersect\"] = gdf_poly[\"Intersect\"] / gdf_poly[\"Area\"]\r\n",
    "\r\n",
    "# Se calcula el porcentaje del área de la cuenca cubierto por cada área\r\n",
    "# de influencia.\r\n",
    "gdf_poly[\"Per_cuenca\"] = (\r\n",
    "    gdf_poly[\"Intersect\"] / \r\n",
    "    gdf[gdf[\"ORG_CUENCA\"] == \"Aguas del Valle de México\"].to_crs(\r\n",
    "    \"epsg:32633\").area.iloc[0]\r\n",
    "    )"
   ],
   "outputs": [],
   "metadata": {}
  },
  {
   "cell_type": "code",
   "execution_count": null,
   "source": [
    "opts_yes = {\"alpha\": 0.3, \"edgecolor\": \"black\",\r\n",
    "    \"facecolor\": \"blue\", \"linewidth\": 1.5}\r\n",
    "opts_no  = {\"alpha\": 0.3, \"edgecolor\": \"black\",\r\n",
    "    \"facecolor\": \"red\",  \"linewidth\": 1.5}\r\n",
    "\r\n",
    "graph = cuenca\r\n",
    "\r\n",
    "columns = [\"lon\", \"lat\", \"lonp\", \"latp\", \"Per_intersect\", \"Per_cuenca\"]\r\n",
    "df_cuenca = pd.DataFrame(columns = columns)\r\n",
    "\r\n",
    "# Se concatenan las gráficas de la cuenca y los puntos de grid.\r\n",
    "for element in points_gv:\r\n",
    "    graph *= element\r\n",
    "\r\n",
    "# Se concatenan las gráficas de la cuenca y los puntos de grid.\r\n",
    "for i in range(0, len(gdf_poly)):\r\n",
    "    # Si el porcentaje de intersección es menor a 0.5, el área de\r\n",
    "    # influencia se grafica de color rojo.\r\n",
    "    if gdf_poly.Per_intersect[i] < 0.5:\r\n",
    "        graph *= gv.Shape(gdf_poly.geometry[i]).opts(**opts_no)\r\n",
    "    # Si el porcentaje de intersección es mayor o igual a 0.5, el\r\n",
    "    # área de influencia se grafica de color azul.\r\n",
    "    else:\r\n",
    "        graph *= gv.Shape(gdf_poly.geometry[i]).opts(**opts_yes)\r\n",
    "        # Se crea un DataFrame con la información de los puntos de\r\n",
    "        # grid a utilizar.\r\n",
    "        df_cuenca = df_cuenca.append({\r\n",
    "            columns[0]: points[i][0], columns[1]: points[i][1],\r\n",
    "            columns[2]: points[i][2], columns[3]: points[i][3],\r\n",
    "            columns[4]: gdf_poly.at[i, columns[4]], \r\n",
    "            columns[5]: gdf_poly.at[i, columns[5]]},\r\n",
    "            ignore_index = True)\r\n",
    "\r\n",
    "# Se asegura que el número de punto de grid con respecto a los archivos\r\n",
    "# mexico_cru sea un entero.\r\n",
    "df_cuenca = df_cuenca.astype({columns[2]: \"int32\", columns[3]: \"int32\"})\r\n",
    "# Se calcula la suma acumulada del área de la cuenca cubierto por cada\r\n",
    "# área de influencia.\r\n",
    "df_cuenca[\"Per_cuenca_cumsum\"] = df_cuenca.Per_cuenca.cumsum()\r\n",
    "\r\n",
    "graph.opts(\r\n",
    "    title = \"Región Hidrológico Administrativa\\nAguas del Valle de México\",\r\n",
    "    fontsize = 18)\r\n"
   ],
   "outputs": [],
   "metadata": {}
  },
  {
   "cell_type": "code",
   "execution_count": null,
   "source": [
    "df_cuenca"
   ],
   "outputs": [],
   "metadata": {}
  }
 ],
 "metadata": {
  "orig_nbformat": 4,
  "language_info": {
   "name": "python",
   "version": "3.7.10",
   "mimetype": "text/x-python",
   "codemirror_mode": {
    "name": "ipython",
    "version": 3
   },
   "pygments_lexer": "ipython3",
   "nbconvert_exporter": "python",
   "file_extension": ".py"
  },
  "kernelspec": {
   "name": "python3",
   "display_name": "Python 3.7.10 64-bit ('gv': conda)"
  },
  "interpreter": {
   "hash": "6676ca00fb0741993ebaaea950e1452b1d4d3e4d3ff6c8432cb3f62d50337d19"
  }
 },
 "nbformat": 4,
 "nbformat_minor": 2
}