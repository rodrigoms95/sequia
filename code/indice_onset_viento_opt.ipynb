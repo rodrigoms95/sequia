{
 "cells": [
  {
   "cell_type": "code",
   "execution_count": 43,
   "metadata": {},
   "outputs": [],
   "source": [
    "# Obtiene los datos de precipitación par la Cuenca del Valle\n",
    "# de Méxco a partir de CHIRPS y los promedia espacialmente.\n",
    "\n",
    "import os\n",
    "\n",
    "import rioxarray\n",
    "\n",
    "import pandas as pd\n",
    "import numpy as np\n",
    "\n",
    "import geopandas as gpd\n",
    "import xarray as xr\n",
    "\n",
    "# Datos\n",
    "path_d = \"../results/onset/\"\n",
    "path_r = \"../results/onset/graficas/\"\n",
    "\n",
    "# Variable, nivel de presión y región.\n",
    "vars = [ \"u\", \"v\", \"gp\", \"sst\", \"olr\", \"sp\" ]\n",
    "levels = [ \"925\", \"200\" ]\n",
    "region = [ \"mexico\" ]\n",
    "\n",
    "# Cantidad de días promediados.\n",
    "d = 20\n",
    "\n",
    "# Fechas de onset por precipitación\n",
    "date_pre = pd.read_csv(path_d + \"onset_CHIRPS.csv\", index_col = \"Año\" )\n",
    "date_pre.index = pd.RangeIndex(date_pre.index[0], date_pre.index[-1] + 1, \n",
    "    name = \"Año\" )\n",
    "date_pre.iloc[:, 0] = pd.to_datetime( date_pre.iloc[:, 0] )\n",
    "date_pre.iloc[:, 1] = pd.to_datetime( date_pre.iloc[:, 1] )\n",
    "\n",
    "# Se convierten las fechas a días julianos.\n",
    "date_pre[\"Cuenca - Onset\"] = date_pre[\"Cuenca - Onset\"].apply(\n",
    "    lambda x: pd.to_datetime(x) )\n",
    "date_pre[\"Cuenca - Onset\"] = date_pre[\"Cuenca - Onset\"].apply(\n",
    "    lambda x: x.dayofyear )"
   ]
  },
  {
   "cell_type": "code",
   "execution_count": 44,
   "metadata": {},
   "outputs": [],
   "source": [
    "def onset( df, vars = [-12.5, 7] , m_i = 5 ):\n",
    "\n",
    "    umbral = vars[0]\n",
    "    n = int( vars[1] )\n",
    "\n",
    "    c = \"Cuenca\"\n",
    "\n",
    "    # Nombre de las columnas dummy.\n",
    "    proc = [c]\n",
    "    for i in range( 0, n ): proc.append(c + \"_\" + str(i))\n",
    "\n",
    "    # Traslapa los últimos 3 días \n",
    "    # y da un valor de 1 a cada día \n",
    "    # que cumpla con el umbral.\n",
    "    # Umbral positivo.\n",
    "    if vars[0] >= 0:\n",
    "        for i, p in enumerate(proc[1:]):\n",
    "            df[p] = df[proc[0]].shift(i)\n",
    "            df[p].clip( upper = umbral, inplace = True )\n",
    "            df[p] = df[p].where( df[p] == umbral, 0 )\n",
    "            df[p] = df[p].where( df[p] < umbral, 1 )\n",
    "    # Umbral negativo\n",
    "    if vars[0] < 0:\n",
    "        for i, p in enumerate(proc[1:]):\n",
    "            df[p] = df[proc[0]].shift(i)\n",
    "            df[p].clip( lower = umbral, inplace = True )\n",
    "            df[p] = df[p].where( df[p] == umbral, 0 )\n",
    "            df[p] = df[p].where( df[p] > umbral, 1 )\n",
    "\n",
    "    # El índice es uno si los n\n",
    "    # cumplen con el umbral.\n",
    "    ind = \"Index_\" + c\n",
    "    df[ind] = 0\n",
    "    for i in range( n ):\n",
    "        df[ind] += df[proc[i + 1]]\n",
    "    df[ind] = df[ind].where( df[ind] == n, 0 )\n",
    "    df[ind] = df[ind].where( df[ind] < n, 1 )\n",
    "    df[ind] = df[ind].where( df.index.month.isin( range(m_i, 12) ), 0 )\n",
    "    df.drop(proc[1:], axis = 1, inplace = True)\n",
    "\n",
    "    # Crea una tabla con los valores anuales.\n",
    "    date = date_pre[\"Cuenca - Onset\"].copy()\n",
    "    years = range(1981, 2021)\n",
    "\n",
    "    for j in years:\n",
    "        # Solo utilizamos valores entre mayo y noviembre.\n",
    "        df_year = df[ (df.index.year == j)\n",
    "            & df.index.month.isin(range(m_i, 12)) ]\n",
    "\n",
    "        # Fechas.\n",
    "        date[j] = df_year.iloc[:, 1].idxmax()\n",
    "\n",
    "    # Damos formato a las columnas y al índice.\n",
    "    date.index = years\n",
    "    # Recorremos al inicio de la racha de días de precipitación.\n",
    "    date = date - np.timedelta64(n, 'D')\n",
    "\n",
    "    # Correlación entre índice de precipitación y de viento.\n",
    "\n",
    "    # Se convierten las fechas a días julianos.\n",
    "    date = date.apply( lambda x: pd.to_datetime(x) )\n",
    "    date = date.apply( lambda x: x.dayofyear )\n",
    "\n",
    "    # Correlaciones de las series.\n",
    "    corr = date.corr( date_pre[\"Cuenca - Onset\"] )\n",
    "\n",
    "    # Liberamos memoria.\n",
    "    del date\n",
    "\n",
    "    return corr\n",
    "\n",
    "def ind_max( ds, zone = (-80, -70, 12.5, 17.5), n = (1, 20), num = 10 ):\n",
    "    # Precipitación diaria promedio en toda la cuenca.\n",
    "    data = ( ds.sel( longitude = slice( zone[0], zone[1] ), \n",
    "        latitude = slice( zone[3], zone[2] ) )\n",
    "        .mean(dim = [\"latitude\", \"longitude\"]).to_dataframe() )\n",
    "    data.columns = [\"Cuenca\"]\n",
    "\n",
    "    u = [ np.fix( data.min()[0] * 2 ) / 2,\n",
    "        np.fix( data.max()[0] * 2 ) / 2, num ]\n",
    "\n",
    "    c = np.stack( np.meshgrid( np.linspace( *u ), np.linspace( *n ) ),\n",
    "        axis = 2 )\n",
    "    res = np.ndarray(shape = c.shape[0:2])\n",
    "\n",
    "    for i in range(c.shape[0]):\n",
    "        for j in range(c.shape[1]):\n",
    "            res[i, j] = onset( data, c[i, j] )\n",
    "\n",
    "    return ( res.max(), c[ np.argmax(res) // res.shape[1],\n",
    "        np.argmax(res) % res.shape[1] ], u )\n",
    "\n",
    "def eval(v = 0, n = 0, step = 20, num = 5):\n",
    "    # Variable a utilizar.\n",
    "    if v > 2: lev = \"\"\n",
    "    else: lev = \"_\" + levels[n]\n",
    "    fname = \"onset_\" + vars[v] + lev + \"_mean_\" + str(d) + \"_dias.nc\"\n",
    "    ds = xr.open_dataset( path_d + fname)\n",
    "\n",
    "    lon = np.arange(-120, -50 + step, step)\n",
    "    lat = np.arange(0 , 40 + step, step)\n",
    "\n",
    "    lon = np.stack( [ lon[0:-1], lon[1:] ], axis = 1)\n",
    "    lat = np.stack( [ lat[0:-1], lat[1:] ], axis = 1)\n",
    "\n",
    "    a = np.repeat(lon, lat.shape[0], axis = 0)\n",
    "    b = np.tile(lat, [lon.shape[0], 1])\n",
    "\n",
    "    bounds = np.concatenate([a, b], axis = 1)\n",
    "\n",
    "    x = []\n",
    "    y = np.ndarray([0])\n",
    "\n",
    "    for i in bounds:\n",
    "        z = ind_max( ds, zone = i, num = num )\n",
    "        x.append( z )\n",
    "        y = np.append( y, [z[0]], axis = 0 )\n",
    "\n",
    "    print( bounds[ np.argmax(y) ] )\n",
    "    print( x[ np.argmax(y) ] )"
   ]
  },
  {
   "cell_type": "code",
   "execution_count": 45,
   "metadata": {},
   "outputs": [
    {
     "name": "stdout",
     "output_type": "stream",
     "text": [
      "[-100  -80    0   20]\n",
      "(0.43242800353993055, array([ 1.25      , 14.18367347]), [-5.5, 3.5, 5])\n"
     ]
    }
   ],
   "source": [
    "eval(v = 0, n = 0)"
   ]
  },
  {
   "cell_type": "code",
   "execution_count": 46,
   "metadata": {},
   "outputs": [
    {
     "name": "stdout",
     "output_type": "stream",
     "text": [
      "[-100  -80    0   20]\n",
      "(0.37203417019338453, array([ 5.5      , 19.2244898]), [-13.0, 24.0, 5])\n"
     ]
    }
   ],
   "source": [
    "eval(v = 0, n = 1)"
   ]
  },
  {
   "cell_type": "code",
   "execution_count": 50,
   "metadata": {},
   "outputs": [
    {
     "name": "stdout",
     "output_type": "stream",
     "text": [
      "[-60 -40  20  40]\n",
      "(0.42796311598174325, array([2.875, 1.   ]), [-5.0, 5.5, 5])\n"
     ]
    }
   ],
   "source": [
    "eval(v = 1, n = 0)"
   ]
  },
  {
   "cell_type": "code",
   "execution_count": 47,
   "metadata": {},
   "outputs": [
    {
     "name": "stdout",
     "output_type": "stream",
     "text": [
      "[-100  -80    0   20]\n",
      "(0.3842367367326, array([-2., 20.]), [-7.5, 14.5, 5])\n"
     ]
    }
   ],
   "source": [
    "eval(v = 1, n = 1)"
   ]
  },
  {
   "cell_type": "code",
   "execution_count": 54,
   "metadata": {},
   "outputs": [
    {
     "name": "stdout",
     "output_type": "stream",
     "text": [
      "[-80 -60   0  20]\n",
      "(0.3902023350969838, array([302.5,  20. ]), [298.5, 302.5, 5])\n"
     ]
    }
   ],
   "source": [
    "eval(v = 2, n = 0)"
   ]
  },
  {
   "cell_type": "code",
   "execution_count": 55,
   "metadata": {},
   "outputs": [
    {
     "ename": "KeyboardInterrupt",
     "evalue": "",
     "output_type": "error",
     "traceback": [
      "\u001b[0;31m---------------------------------------------------------------------------\u001b[0m",
      "\u001b[0;31mKeyboardInterrupt\u001b[0m                         Traceback (most recent call last)",
      "\u001b[0;32m/var/folders/td/smccb02154l21rhgckcmbs940000gn/T/ipykernel_1991/1448672199.py\u001b[0m in \u001b[0;36m<module>\u001b[0;34m\u001b[0m\n\u001b[0;32m----> 1\u001b[0;31m \u001b[0meval\u001b[0m\u001b[0;34m(\u001b[0m\u001b[0mv\u001b[0m \u001b[0;34m=\u001b[0m \u001b[0;36m2\u001b[0m\u001b[0;34m,\u001b[0m \u001b[0mn\u001b[0m \u001b[0;34m=\u001b[0m \u001b[0;36m1\u001b[0m\u001b[0;34m)\u001b[0m\u001b[0;34m\u001b[0m\u001b[0;34m\u001b[0m\u001b[0m\n\u001b[0m",
      "\u001b[0;32m/var/folders/td/smccb02154l21rhgckcmbs940000gn/T/ipykernel_1991/872348617.py\u001b[0m in \u001b[0;36meval\u001b[0;34m(v, n, step, num)\u001b[0m\n\u001b[1;32m    113\u001b[0m \u001b[0;34m\u001b[0m\u001b[0m\n\u001b[1;32m    114\u001b[0m     \u001b[0;32mfor\u001b[0m \u001b[0mi\u001b[0m \u001b[0;32min\u001b[0m \u001b[0mbounds\u001b[0m\u001b[0;34m:\u001b[0m\u001b[0;34m\u001b[0m\u001b[0;34m\u001b[0m\u001b[0m\n\u001b[0;32m--> 115\u001b[0;31m         \u001b[0mz\u001b[0m \u001b[0;34m=\u001b[0m \u001b[0mind_max\u001b[0m\u001b[0;34m(\u001b[0m \u001b[0mds\u001b[0m\u001b[0;34m,\u001b[0m \u001b[0mzone\u001b[0m \u001b[0;34m=\u001b[0m \u001b[0mi\u001b[0m\u001b[0;34m,\u001b[0m \u001b[0mnum\u001b[0m \u001b[0;34m=\u001b[0m \u001b[0mnum\u001b[0m \u001b[0;34m)\u001b[0m\u001b[0;34m\u001b[0m\u001b[0;34m\u001b[0m\u001b[0m\n\u001b[0m\u001b[1;32m    116\u001b[0m         \u001b[0mx\u001b[0m\u001b[0;34m.\u001b[0m\u001b[0mappend\u001b[0m\u001b[0;34m(\u001b[0m \u001b[0mz\u001b[0m \u001b[0;34m)\u001b[0m\u001b[0;34m\u001b[0m\u001b[0;34m\u001b[0m\u001b[0m\n\u001b[1;32m    117\u001b[0m         \u001b[0my\u001b[0m \u001b[0;34m=\u001b[0m \u001b[0mnp\u001b[0m\u001b[0;34m.\u001b[0m\u001b[0mappend\u001b[0m\u001b[0;34m(\u001b[0m \u001b[0my\u001b[0m\u001b[0;34m,\u001b[0m \u001b[0;34m[\u001b[0m\u001b[0mz\u001b[0m\u001b[0;34m[\u001b[0m\u001b[0;36m0\u001b[0m\u001b[0;34m]\u001b[0m\u001b[0;34m]\u001b[0m\u001b[0;34m,\u001b[0m \u001b[0maxis\u001b[0m \u001b[0;34m=\u001b[0m \u001b[0;36m0\u001b[0m \u001b[0;34m)\u001b[0m\u001b[0;34m\u001b[0m\u001b[0;34m\u001b[0m\u001b[0m\n",
      "\u001b[0;32m/var/folders/td/smccb02154l21rhgckcmbs940000gn/T/ipykernel_1991/872348617.py\u001b[0m in \u001b[0;36mind_max\u001b[0;34m(ds, zone, n, num)\u001b[0m\n\u001b[1;32m     86\u001b[0m     \u001b[0;32mfor\u001b[0m \u001b[0mi\u001b[0m \u001b[0;32min\u001b[0m \u001b[0mrange\u001b[0m\u001b[0;34m(\u001b[0m\u001b[0mc\u001b[0m\u001b[0;34m.\u001b[0m\u001b[0mshape\u001b[0m\u001b[0;34m[\u001b[0m\u001b[0;36m0\u001b[0m\u001b[0;34m]\u001b[0m\u001b[0;34m)\u001b[0m\u001b[0;34m:\u001b[0m\u001b[0;34m\u001b[0m\u001b[0;34m\u001b[0m\u001b[0m\n\u001b[1;32m     87\u001b[0m         \u001b[0;32mfor\u001b[0m \u001b[0mj\u001b[0m \u001b[0;32min\u001b[0m \u001b[0mrange\u001b[0m\u001b[0;34m(\u001b[0m\u001b[0mc\u001b[0m\u001b[0;34m.\u001b[0m\u001b[0mshape\u001b[0m\u001b[0;34m[\u001b[0m\u001b[0;36m1\u001b[0m\u001b[0;34m]\u001b[0m\u001b[0;34m)\u001b[0m\u001b[0;34m:\u001b[0m\u001b[0;34m\u001b[0m\u001b[0;34m\u001b[0m\u001b[0m\n\u001b[0;32m---> 88\u001b[0;31m             \u001b[0mres\u001b[0m\u001b[0;34m[\u001b[0m\u001b[0mi\u001b[0m\u001b[0;34m,\u001b[0m \u001b[0mj\u001b[0m\u001b[0;34m]\u001b[0m \u001b[0;34m=\u001b[0m \u001b[0monset\u001b[0m\u001b[0;34m(\u001b[0m \u001b[0mdata\u001b[0m\u001b[0;34m,\u001b[0m \u001b[0mc\u001b[0m\u001b[0;34m[\u001b[0m\u001b[0mi\u001b[0m\u001b[0;34m,\u001b[0m \u001b[0mj\u001b[0m\u001b[0;34m]\u001b[0m \u001b[0;34m)\u001b[0m\u001b[0;34m\u001b[0m\u001b[0;34m\u001b[0m\u001b[0m\n\u001b[0m\u001b[1;32m     89\u001b[0m \u001b[0;34m\u001b[0m\u001b[0m\n\u001b[1;32m     90\u001b[0m     return ( res.max(), c[ np.argmax(res) // res.shape[1],\n",
      "\u001b[0;32m/var/folders/td/smccb02154l21rhgckcmbs940000gn/T/ipykernel_1991/872348617.py\u001b[0m in \u001b[0;36monset\u001b[0;34m(df, vars, m_i)\u001b[0m\n\u001b[1;32m     45\u001b[0m     \u001b[0;32mfor\u001b[0m \u001b[0mj\u001b[0m \u001b[0;32min\u001b[0m \u001b[0myears\u001b[0m\u001b[0;34m:\u001b[0m\u001b[0;34m\u001b[0m\u001b[0;34m\u001b[0m\u001b[0m\n\u001b[1;32m     46\u001b[0m         \u001b[0;31m# Solo utilizamos valores entre mayo y noviembre.\u001b[0m\u001b[0;34m\u001b[0m\u001b[0;34m\u001b[0m\u001b[0m\n\u001b[0;32m---> 47\u001b[0;31m         df_year = df[ (df.index.year == j)\n\u001b[0m\u001b[1;32m     48\u001b[0m             & df.index.month.isin(range(m_i, 12)) ]\n\u001b[1;32m     49\u001b[0m \u001b[0;34m\u001b[0m\u001b[0m\n",
      "\u001b[0;32m/opt/homebrew/Caskroom/miniforge/base/envs/gv/lib/python3.9/site-packages/pandas/core/indexes/extension.py\u001b[0m in \u001b[0;36mfget\u001b[0;34m(self)\u001b[0m\n\u001b[1;32m     79\u001b[0m \u001b[0;34m\u001b[0m\u001b[0m\n\u001b[1;32m     80\u001b[0m             \u001b[0;32mdef\u001b[0m \u001b[0mfget\u001b[0m\u001b[0;34m(\u001b[0m\u001b[0mself\u001b[0m\u001b[0;34m)\u001b[0m\u001b[0;34m:\u001b[0m\u001b[0;34m\u001b[0m\u001b[0;34m\u001b[0m\u001b[0m\n\u001b[0;32m---> 81\u001b[0;31m                 \u001b[0mresult\u001b[0m \u001b[0;34m=\u001b[0m \u001b[0mgetattr\u001b[0m\u001b[0;34m(\u001b[0m\u001b[0mself\u001b[0m\u001b[0;34m.\u001b[0m\u001b[0m_data\u001b[0m\u001b[0;34m,\u001b[0m \u001b[0mname\u001b[0m\u001b[0;34m)\u001b[0m\u001b[0;34m\u001b[0m\u001b[0;34m\u001b[0m\u001b[0m\n\u001b[0m\u001b[1;32m     82\u001b[0m                 \u001b[0;32mif\u001b[0m \u001b[0mwrap\u001b[0m\u001b[0;34m:\u001b[0m\u001b[0;34m\u001b[0m\u001b[0;34m\u001b[0m\u001b[0m\n\u001b[1;32m     83\u001b[0m                     \u001b[0;32mif\u001b[0m \u001b[0misinstance\u001b[0m\u001b[0;34m(\u001b[0m\u001b[0mresult\u001b[0m\u001b[0;34m,\u001b[0m \u001b[0mtype\u001b[0m\u001b[0;34m(\u001b[0m\u001b[0mself\u001b[0m\u001b[0;34m.\u001b[0m\u001b[0m_data\u001b[0m\u001b[0;34m)\u001b[0m\u001b[0;34m)\u001b[0m\u001b[0;34m:\u001b[0m\u001b[0;34m\u001b[0m\u001b[0;34m\u001b[0m\u001b[0m\n",
      "\u001b[0;32m/opt/homebrew/Caskroom/miniforge/base/envs/gv/lib/python3.9/site-packages/pandas/core/arrays/datetimes.py\u001b[0m in \u001b[0;36mf\u001b[0;34m(self)\u001b[0m\n\u001b[1;32m    138\u001b[0m         \u001b[0;32melse\u001b[0m\u001b[0;34m:\u001b[0m\u001b[0;34m\u001b[0m\u001b[0;34m\u001b[0m\u001b[0m\n\u001b[1;32m    139\u001b[0m             \u001b[0mresult\u001b[0m \u001b[0;34m=\u001b[0m \u001b[0mfields\u001b[0m\u001b[0;34m.\u001b[0m\u001b[0mget_date_field\u001b[0m\u001b[0;34m(\u001b[0m\u001b[0mvalues\u001b[0m\u001b[0;34m,\u001b[0m \u001b[0mfield\u001b[0m\u001b[0;34m)\u001b[0m\u001b[0;34m\u001b[0m\u001b[0;34m\u001b[0m\u001b[0m\n\u001b[0;32m--> 140\u001b[0;31m             result = self._maybe_mask_results(\n\u001b[0m\u001b[1;32m    141\u001b[0m                 \u001b[0mresult\u001b[0m\u001b[0;34m,\u001b[0m \u001b[0mfill_value\u001b[0m\u001b[0;34m=\u001b[0m\u001b[0;32mNone\u001b[0m\u001b[0;34m,\u001b[0m \u001b[0mconvert\u001b[0m\u001b[0;34m=\u001b[0m\u001b[0;34m\"float64\"\u001b[0m\u001b[0;34m\u001b[0m\u001b[0;34m\u001b[0m\u001b[0m\n\u001b[1;32m    142\u001b[0m             )\n",
      "\u001b[0;32m/opt/homebrew/Caskroom/miniforge/base/envs/gv/lib/python3.9/site-packages/pandas/core/arrays/datetimelike.py\u001b[0m in \u001b[0;36m_maybe_mask_results\u001b[0;34m(self, result, fill_value, convert)\u001b[0m\n\u001b[1;32m    867\u001b[0m         \u001b[0mThis\u001b[0m \u001b[0;32mis\u001b[0m \u001b[0man\u001b[0m \u001b[0minternal\u001b[0m \u001b[0mroutine\u001b[0m\u001b[0;34m.\u001b[0m\u001b[0;34m\u001b[0m\u001b[0;34m\u001b[0m\u001b[0m\n\u001b[1;32m    868\u001b[0m         \"\"\"\n\u001b[0;32m--> 869\u001b[0;31m         \u001b[0;32mif\u001b[0m \u001b[0mself\u001b[0m\u001b[0;34m.\u001b[0m\u001b[0m_hasnans\u001b[0m\u001b[0;34m:\u001b[0m\u001b[0;34m\u001b[0m\u001b[0;34m\u001b[0m\u001b[0m\n\u001b[0m\u001b[1;32m    870\u001b[0m             \u001b[0;32mif\u001b[0m \u001b[0mconvert\u001b[0m\u001b[0;34m:\u001b[0m\u001b[0;34m\u001b[0m\u001b[0;34m\u001b[0m\u001b[0m\n\u001b[1;32m    871\u001b[0m                 \u001b[0mresult\u001b[0m \u001b[0;34m=\u001b[0m \u001b[0mresult\u001b[0m\u001b[0;34m.\u001b[0m\u001b[0mastype\u001b[0m\u001b[0;34m(\u001b[0m\u001b[0mconvert\u001b[0m\u001b[0;34m)\u001b[0m\u001b[0;34m\u001b[0m\u001b[0;34m\u001b[0m\u001b[0m\n",
      "\u001b[0;32m/opt/homebrew/Caskroom/miniforge/base/envs/gv/lib/python3.9/site-packages/pandas/core/arrays/datetimelike.py\u001b[0m in \u001b[0;36m_hasnans\u001b[0;34m(self)\u001b[0m\n\u001b[1;32m    846\u001b[0m         \u001b[0;32mreturn\u001b[0m \u001b[0;32mif\u001b[0m \u001b[0mI\u001b[0m \u001b[0mhave\u001b[0m \u001b[0many\u001b[0m \u001b[0mnans\u001b[0m\u001b[0;34m;\u001b[0m \u001b[0menables\u001b[0m \u001b[0mvarious\u001b[0m \u001b[0mperf\u001b[0m \u001b[0mspeedups\u001b[0m\u001b[0;34m\u001b[0m\u001b[0;34m\u001b[0m\u001b[0m\n\u001b[1;32m    847\u001b[0m         \"\"\"\n\u001b[0;32m--> 848\u001b[0;31m         \u001b[0;32mreturn\u001b[0m \u001b[0mbool\u001b[0m\u001b[0;34m(\u001b[0m\u001b[0mself\u001b[0m\u001b[0;34m.\u001b[0m\u001b[0m_isnan\u001b[0m\u001b[0;34m.\u001b[0m\u001b[0many\u001b[0m\u001b[0;34m(\u001b[0m\u001b[0;34m)\u001b[0m\u001b[0;34m)\u001b[0m\u001b[0;34m\u001b[0m\u001b[0;34m\u001b[0m\u001b[0m\n\u001b[0m\u001b[1;32m    849\u001b[0m \u001b[0;34m\u001b[0m\u001b[0m\n\u001b[1;32m    850\u001b[0m     def _maybe_mask_results(\n",
      "\u001b[0;32m/opt/homebrew/Caskroom/miniforge/base/envs/gv/lib/python3.9/site-packages/pandas/core/arrays/datetimelike.py\u001b[0m in \u001b[0;36m_isnan\u001b[0;34m(self)\u001b[0m\n\u001b[1;32m    839\u001b[0m         \u001b[0;32mreturn\u001b[0m \u001b[0;32mif\u001b[0m \u001b[0meach\u001b[0m \u001b[0mvalue\u001b[0m \u001b[0;32mis\u001b[0m \u001b[0mnan\u001b[0m\u001b[0;34m\u001b[0m\u001b[0;34m\u001b[0m\u001b[0m\n\u001b[1;32m    840\u001b[0m         \"\"\"\n\u001b[0;32m--> 841\u001b[0;31m         \u001b[0;32mreturn\u001b[0m \u001b[0mself\u001b[0m\u001b[0;34m.\u001b[0m\u001b[0masi8\u001b[0m \u001b[0;34m==\u001b[0m \u001b[0miNaT\u001b[0m\u001b[0;34m\u001b[0m\u001b[0;34m\u001b[0m\u001b[0m\n\u001b[0m\u001b[1;32m    842\u001b[0m \u001b[0;34m\u001b[0m\u001b[0m\n\u001b[1;32m    843\u001b[0m     \u001b[0;34m@\u001b[0m\u001b[0mproperty\u001b[0m  \u001b[0;31m# NB: override with cache_readonly in immutable subclasses\u001b[0m\u001b[0;34m\u001b[0m\u001b[0;34m\u001b[0m\u001b[0m\n",
      "\u001b[0;31mKeyboardInterrupt\u001b[0m: "
     ]
    }
   ],
   "source": [
    "eval(v = 2, n = 1)"
   ]
  },
  {
   "cell_type": "code",
   "execution_count": 51,
   "metadata": {},
   "outputs": [
    {
     "name": "stdout",
     "output_type": "stream",
     "text": [
      "[-80 -60   0  20]\n",
      "(0.3902023350969838, array([302.5,  20. ]), [298.5, 302.5, 5])\n"
     ]
    }
   ],
   "source": [
    "eval(v = 3)"
   ]
  },
  {
   "cell_type": "code",
   "execution_count": 52,
   "metadata": {},
   "outputs": [
    {
     "name": "stdout",
     "output_type": "stream",
     "text": [
      "[-100  -80   20   40]\n",
      "(0.3783809576930082, array([-264.       ,   19.2244898]), [-277.0, -225.0, 5])\n"
     ]
    }
   ],
   "source": [
    "eval(v = 4)"
   ]
  },
  {
   "cell_type": "code",
   "execution_count": 53,
   "metadata": {},
   "outputs": [
    {
     "name": "stdout",
     "output_type": "stream",
     "text": [
      "[-100  -80   20   40]\n",
      "(0.41369218439777344, array([9.98155000e+04, 7.20408163e+00]), [99051.0, 100580.0, 5])\n"
     ]
    }
   ],
   "source": [
    "eval(v = 5)"
   ]
  }
 ],
 "metadata": {
  "interpreter": {
   "hash": "cce8d45697d85db6636183b0f945e1ffea3934773870cd67d93bb4bbe05deaec"
  },
  "kernelspec": {
   "display_name": "Python 3.9.9 ('gv')",
   "language": "python",
   "name": "python3"
  },
  "language_info": {
   "codemirror_mode": {
    "name": "ipython",
    "version": 3
   },
   "file_extension": ".py",
   "mimetype": "text/x-python",
   "name": "python",
   "nbconvert_exporter": "python",
   "pygments_lexer": "ipython3",
   "version": "3.9.9"
  },
  "orig_nbformat": 4
 },
 "nbformat": 4,
 "nbformat_minor": 2
}
