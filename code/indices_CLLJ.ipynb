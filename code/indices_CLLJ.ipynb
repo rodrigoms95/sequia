{
 "cells": [
  {
   "cell_type": "code",
   "execution_count": null,
   "metadata": {},
   "outputs": [],
   "source": [
    "# Obtiene anomalías estandarizadas de viento y SST para el CLLJ.\n",
    "\n",
    "import os\n",
    "\n",
    "import rioxarray\n",
    "\n",
    "import pandas as pd\n",
    "import numpy as np\n",
    "\n",
    "import xarray as xr\n",
    "import geopandas as gpd\n",
    "\n",
    "import holoviews as hv\n",
    "import geoviews as gv\n",
    "\n",
    "import geoviews.feature as gf\n",
    "\n",
    "from shapely.ops import clip_by_rect\n",
    "\n",
    "# Se carga el motor gráfico de Geoviews.\n",
    "gv.extension(\"matplotlib\")\n",
    "gv.output(size = 600)"
   ]
  },
  {
   "cell_type": "code",
   "execution_count": null,
   "metadata": {},
   "outputs": [],
   "source": [
    "# Datos.\n",
    "\n",
    "path_d = \"../data/ERA5/\"\n",
    "path_c = \"../results/onset/\"\n",
    "path_r = \"../results/onset/graficas/\"\n",
    "path_map = \"../data/Mapas/ne_50m_coastline/\"\n",
    "path_shp = \"../data/Cuencas/Regiones_Hidrologicas_Administrativas/\"\n",
    "name_shp = \"rha250kgw.shp\"\n",
    "\n",
    "vars = [ \"u\", \"sst\", \"olr\" ]\n",
    "levels = [ \"925\" ]\n",
    "region = [ \"mexico\" ]\n",
    "\n",
    "# Se carga el contorno de México.\n",
    "gdf = gpd.read_file(path_shp + name_shp)\n",
    "# Se obtiene el contorno de los países.\n",
    "gdf[\"boundary\"] = gdf.boundary\n",
    "\n",
    "# Media movil\n",
    "d = 20\n",
    "\n",
    "composite = [None] * 2\n",
    "\n",
    "composite[0] = xr.open_dataset( path_c + \"onset_\"+  vars[1] + \"_mean_\" \n",
    "    + str(d) + \"_dias.grib\", engine = \"cfgrib\"\n",
    "    ).drop( [ \"step\", \"surface\", \"valid_time\" ] )\n",
    "composite[1] = xr.open_dataset( path_c + \"onset_\" + vars[0] + \"_\" \n",
    "    + levels[0] + \"_mean_\" + str(d) + \"_dias.grib\", engine = \"cfgrib\"\n",
    "    ).drop( [ \"step\", \"isobaricInhPa\", \"valid_time\" ] )\n",
    "\n",
    "zones = (-80, 12.5, -70, 17.5)"
   ]
  },
  {
   "cell_type": "code",
   "execution_count": null,
   "metadata": {},
   "outputs": [],
   "source": [
    "# Índice de la SST en la zona del CLLJ.\n",
    "\n",
    "fname_r = [ path_c + x + \"_index.csv\" for x in [ \"CLLJ\", \"CLLJ_wind\" ] ]\n",
    "\n",
    "for i in range(2):\n",
    "\n",
    "    # Seleccionamos la región.\n",
    "    clip = composite[i].sel( longitude = slice( zones[0],\n",
    "        zones[2] ), latitude = slice(zones[3], zones[1]) ).copy()\n",
    "\n",
    "    # Promediamos y convertimos a información mensual.\n",
    "    clip = clip.mean( [\"latitude\", \"longitude\" ]).to_dataframe()\n",
    "    clip.index = clip.index.shift(periods = -18, freq = \"H\")\n",
    "    df = clip.resample(\"1M\", label = \"left\").mean()\n",
    "    df.index += pd.to_timedelta(1, \"D\")\n",
    "\n",
    "    # Anomalías estandarizadas.\n",
    "    df = df.groupby(df.index.month).transform(\n",
    "        lambda x: ( x - x.mean() ) / x.std() )\n",
    "\n",
    "    # Reordenamos la tabla.\n",
    "    df[\"Año\"] = df.index.year\n",
    "    df[\"Mes\"] = df.index.month\n",
    "    df.reset_index(inplace = True)\n",
    "    df.drop(\"time\", axis = 1, inplace = True)\n",
    "    df = df.pivot( columns = \"Mes\", index = \"Año\"\n",
    "        ).droplevel( level = 0, axis = 1 )\n",
    "\n",
    "    df.to_csv(fname_r[i])\n",
    "\n"
   ]
  }
 ],
 "metadata": {
  "kernelspec": {
   "display_name": "Python 3.9.9 ('gv')",
   "language": "python",
   "name": "python3"
  },
  "language_info": {
   "codemirror_mode": {
    "name": "ipython",
    "version": 3
   },
   "file_extension": ".py",
   "mimetype": "text/x-python",
   "name": "python",
   "nbconvert_exporter": "python",
   "pygments_lexer": "ipython3",
   "version": "3.9.9"
  },
  "orig_nbformat": 4,
  "vscode": {
   "interpreter": {
    "hash": "cce8d45697d85db6636183b0f945e1ffea3934773870cd67d93bb4bbe05deaec"
   }
  }
 },
 "nbformat": 4,
 "nbformat_minor": 2
}
