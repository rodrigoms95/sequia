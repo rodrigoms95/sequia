{
 "cells": [
  {
   "cell_type": "code",
   "execution_count": 1,
   "metadata": {},
   "outputs": [],
   "source": [
    "# Crea un netcdf con el viento a 925 hPa alineado con respecto\n",
    "# a la fecha del onset de la temporada de lluvias.\n",
    "\n",
    "import pandas as pd\n",
    "import numpy as np\n",
    "\n",
    "import xarray as xr\n",
    "\n",
    "# Datos básicos.\n",
    "path_d = \"../data/ERA5/\"\n",
    "path_r = \"../results/onset/\"\n",
    "\n",
    "# Cantidad de días a promediar.\n",
    "d = 20\n",
    "\n",
    "# Variable, nivel de presión y región.\n",
    "vars = [ \"u\", \"v\", \"gp\", \"sst\", \"olr\", \"sp\",\n",
    "    \"vidmf\", \"vivfu\", \"vivfv\", \"VIDMFI\" ]\n",
    "levels = [ \"925\", \"200\" ]\n",
    "region = [ \"mexico\" ]\n",
    "\n",
    "# Años comprendidos en CHIRPS.\n",
    "years = list( range(1981, 2021) )\n",
    "\n",
    "# Cargamos la información de desfase para cada año.\n",
    "shift = []\n",
    "delta = []\n",
    "shift.append ( pd.read_csv(path_r + \"shift_CHIRPS.csv\",\n",
    "    index_col = \"Año\", squeeze = True) )\n",
    "shift.append( pd.read_csv(path_r + \"shift_withdrawal_CHIRPS.csv\",\n",
    "    index_col = \"Año\", squeeze = True) )\n",
    "# Fecha pivote del desfase. \n",
    "for i in [0, 1]:\n",
    "    delta.append( shift[i].max() )\n",
    "    shift[i] = delta[i] - shift[i]\n",
    "\n",
    "onset = [ \"onset\", \"withdrawal\" ]\n",
    "anom = [ \"\", \"_anom\" ]"
   ]
  },
  {
   "cell_type": "code",
   "execution_count": null,
   "metadata": {},
   "outputs": [],
   "source": [
    "# Viento zonal a 925 hPa.\n",
    "n = 0\n",
    "v = 0\n",
    "\n",
    "# Normal.\n",
    "a = anom[0]\n",
    "fname = ( region[0] + \"_\" + vars[v] + \"_\" + levels[n]\n",
    "    + \"_daily\" + a + \".grib\" )\n",
    "ds = xr.open_dataset( path_d + fname, engine = \"cfgrib\" )\n",
    "ds = ds.drop_vars([\"step\", \"isobaricInhPa\", \"valid_time\"])\n",
    "# Media móvil de precipitación centrada a d días.\n",
    "ds = ( ds.rolling(time = d, center = True).mean() )\n",
    "# Guardamos el netcdf.\n",
    "ds.to_netcdf( path_r + \"onset_\" + vars[v] + \"_\" + levels[n] + \"_mean_\" \n",
    "    + str(d) + \"_dias\" + a + \".nc\" )"
   ]
  },
  {
   "cell_type": "code",
   "execution_count": null,
   "metadata": {},
   "outputs": [],
   "source": [
    "# Viento zonal a 925 hPa.\n",
    "n = 0\n",
    "v = 0\n",
    "\n",
    "# Anomalías\n",
    "a = anom[1]\n",
    "fname = ( region[0] + \"_\" + vars[v] + \"_\" + levels[n]\n",
    "    + \"_daily\" + a + \".grib\" )\n",
    "ds = xr.open_dataset( path_d + fname, engine = \"cfgrib\" )\n",
    "ds = ds.drop_vars([\"step\", \"isobaricInhPa\", \"valid_time\"])\n",
    "# Media móvil de precipitación centrada a d días.\n",
    "ds = ( ds.rolling(time = d, center = True).mean() )\n",
    "# Guardamos el netcdf.\n",
    "ds.to_netcdf( path_r + \"onset_\" + vars[v] + \"_\" + levels[n] + \"_mean_\" \n",
    "    + str(d) + \"_dias\" + a + \".nc\" )"
   ]
  },
  {
   "cell_type": "code",
   "execution_count": null,
   "metadata": {},
   "outputs": [],
   "source": [
    "# Viento meridional a 925 hPa.\n",
    "n = 0\n",
    "v = 1\n",
    "\n",
    "# Normal.\n",
    "a = anom[0]\n",
    "fname = ( region[0] + \"_\" + vars[v] + \"_\" + levels[n]\n",
    "    + \"_daily\" + a + \".grib\" )\n",
    "ds = xr.open_dataset( path_d + fname, engine = \"cfgrib\" )\n",
    "ds = ds.drop_vars([\"step\", \"isobaricInhPa\", \"valid_time\"])\n",
    "# Media móvil de precipitación centrada a d días.\n",
    "ds = ( ds.rolling(time = d, center = True).mean() )\n",
    "# Guardamos el netcdf.\n",
    "ds.to_netcdf( path_r + \"onset_\" + vars[v] + \"_\" + levels[n] + \"_mean_\" \n",
    "    + str(d) + \"_dias\" + a + \".nc\" )"
   ]
  },
  {
   "cell_type": "code",
   "execution_count": null,
   "metadata": {},
   "outputs": [],
   "source": [
    "# Viento meridional a 925 hPa.\n",
    "n = 0\n",
    "v = 1\n",
    "\n",
    "# Anomalías\n",
    "a = anom[1]\n",
    "fname = ( region[0] + \"_\" + vars[v] + \"_\" + levels[n]\n",
    "    + \"_daily\" + a + \".grib\" )\n",
    "ds = xr.open_dataset( path_d + fname, engine = \"cfgrib\" )\n",
    "ds = ds.drop_vars([\"step\", \"isobaricInhPa\", \"valid_time\"])\n",
    "# Media móvil de precipitación centrada a d días.\n",
    "ds = ( ds.rolling(time = d, center = True).mean() )\n",
    "# Guardamos el netcdf.\n",
    "ds.to_netcdf( path_r + \"onset_\" + vars[v] + \"_\" + levels[n] + \"_mean_\" \n",
    "    + str(d) + \"_dias\" + a + \".nc\" )"
   ]
  },
  {
   "cell_type": "code",
   "execution_count": null,
   "metadata": {},
   "outputs": [],
   "source": [
    "# Viento zonal a 200 hPa.\n",
    "n = 1\n",
    "v = 0\n",
    "\n",
    "# Normal.\n",
    "a = anom[0]\n",
    "fname = ( region[0] + \"_\" + vars[v] + \"_\" + levels[n]\n",
    "    + \"_daily\" + a + \".grib\" )\n",
    "ds = xr.open_dataset( path_d + fname, engine = \"cfgrib\" )\n",
    "ds = ds.drop_vars([\"step\", \"isobaricInhPa\", \"valid_time\"])\n",
    "# Media móvil de precipitación centrada a d días.\n",
    "ds = ( ds.rolling(time = d, center = True).mean() )\n",
    "# Guardamos el netcdf.\n",
    "ds.to_netcdf( path_r + \"onset_\" + vars[v] + \"_\" + levels[n] + \"_mean_\" \n",
    "    + str(d) + \"_dias\" + a + \".nc\" )"
   ]
  },
  {
   "cell_type": "code",
   "execution_count": null,
   "metadata": {},
   "outputs": [],
   "source": [
    "# Viento zonal a 200 hPa.\n",
    "n = 1\n",
    "v = 0\n",
    "\n",
    "# Anomalías\n",
    "a = anom[1]\n",
    "fname = ( region[0] + \"_\" + vars[v] + \"_\" + levels[n]\n",
    "    + \"_daily\" + a + \".grib\" )\n",
    "ds = xr.open_dataset( path_d + fname, engine = \"cfgrib\" )\n",
    "ds = ds.drop_vars([\"step\", \"isobaricInhPa\", \"valid_time\"])\n",
    "# Media móvil de precipitación centrada a d días.\n",
    "ds = ( ds.rolling(time = d, center = True).mean() )\n",
    "# Guardamos el netcdf.\n",
    "ds.to_netcdf( path_r + \"onset_\" + vars[v] + \"_\" + levels[n] + \"_mean_\" \n",
    "    + str(d) + \"_dias\" + a + \".nc\" )"
   ]
  },
  {
   "cell_type": "code",
   "execution_count": null,
   "metadata": {},
   "outputs": [],
   "source": [
    "# Viento meridional a 200 hPa.\n",
    "n = 1\n",
    "v = 1\n",
    "\n",
    "# Normal.\n",
    "a = anom[0]\n",
    "fname = ( region[0] + \"_\" + vars[v] + \"_\" + levels[n]\n",
    "    + \"_daily\" + a + \".grib\" )\n",
    "ds = xr.open_dataset( path_d + fname, engine = \"cfgrib\" )\n",
    "ds = ds.drop_vars([\"step\", \"isobaricInhPa\", \"valid_time\"])\n",
    "# Media móvil de precipitación centrada a d días.\n",
    "ds = ( ds.rolling(time = d, center = True).mean() )\n",
    "# Guardamos el netcdf.\n",
    "ds.to_netcdf( path_r + \"onset_\" + vars[v] + \"_\" + levels[n] + \"_mean_\" \n",
    "    + str(d) + \"_dias\" + a + \".nc\" )"
   ]
  },
  {
   "cell_type": "code",
   "execution_count": null,
   "metadata": {},
   "outputs": [],
   "source": [
    "# Viento meridional a 200 hPa.\n",
    "n = 1\n",
    "v = 1\n",
    "\n",
    "# Anomalías\n",
    "a = anom[1]\n",
    "fname = ( region[0] + \"_\" + vars[v] + \"_\" + levels[n]\n",
    "    + \"_daily\" + a + \".grib\" )\n",
    "ds = xr.open_dataset( path_d + fname, engine = \"cfgrib\" )\n",
    "ds = ds.drop_vars([\"step\", \"isobaricInhPa\", \"valid_time\"])\n",
    "# Media móvil de precipitación centrada a d días.\n",
    "ds = ( ds.rolling(time = d, center = True).mean() )\n",
    "# Guardamos el netcdf.\n",
    "ds.to_netcdf( path_r + \"onset_\" + vars[v] + \"_\" + levels[n] + \"_mean_\" \n",
    "    + str(d) + \"_dias\" + a + \".nc\" )"
   ]
  },
  {
   "cell_type": "code",
   "execution_count": 2,
   "metadata": {},
   "outputs": [
    {
     "ename": "",
     "evalue": "",
     "output_type": "error",
     "traceback": [
      "\u001b[1;31mThe Kernel crashed while executing code in the the current cell or a previous cell. Please review the code in the cell(s) to identify a possible cause of the failure. Click <a href='https://aka.ms/vscodeJupyterKernelCrash'>here</a> for more info. View Jupyter <a href='command:jupyter.viewOutput'>log</a> for further details."
     ]
    },
    {
     "ename": "",
     "evalue": "",
     "output_type": "error",
     "traceback": [
      "\u001b[1;31mCanceled future for execute_request message before replies were done"
     ]
    }
   ],
   "source": [
    "# Geopotencial a 925 hPa.\n",
    "n = 0\n",
    "v = 2\n",
    "\n",
    "# Normal.\n",
    "a = anom[0]\n",
    "fname = ( region[0] + \"_\" + vars[v] + \"_\" + levels[n]\n",
    "    + \"_daily\" + a + \".grib\" )\n",
    "ds = xr.open_dataset( path_d + fname, engine = \"cfgrib\" )\n",
    "ds = ds.drop_vars([\"step\", \"isobaricInhPa\", \"valid_time\"])\n",
    "# Media móvil de precipitación centrada a d días.\n",
    "ds = ( ds.rolling(time = d, center = True).mean() )\n",
    "# Guardamos el netcdf.\n",
    "ds.to_netcdf( path_r + \"onset_\" + vars[v] + \"_\" + levels[n] + \"_mean_\" \n",
    "    + str(d) + \"_dias\" + a + \".nc\" )"
   ]
  },
  {
   "cell_type": "code",
   "execution_count": 2,
   "metadata": {},
   "outputs": [],
   "source": [
    "# Geopotencial a 925 hPa.\n",
    "n = 0\n",
    "v = 2\n",
    "\n",
    "# Normal.\n",
    "a = anom[0]\n",
    "fname = ( region[0] + \"_\" + vars[v] + \"_\" + levels[n]\n",
    "    + \"_daily\" + a + \".grib\" )\n",
    "ds = xr.open_dataset( path_d + fname, engine = \"cfgrib\" )\n",
    "ds = ds.drop_vars([\"step\", \"isobaricInhPa\", \"valid_time\"])"
   ]
  },
  {
   "cell_type": "code",
   "execution_count": 3,
   "metadata": {},
   "outputs": [
    {
     "ename": "",
     "evalue": "",
     "output_type": "error",
     "traceback": [
      "\u001b[1;31mThe Kernel crashed while executing code in the the current cell or a previous cell. Please review the code in the cell(s) to identify a possible cause of the failure. Click <a href='https://aka.ms/vscodeJupyterKernelCrash'>here</a> for more info. View Jupyter <a href='command:jupyter.viewOutput'>log</a> for further details."
     ]
    },
    {
     "ename": "",
     "evalue": "",
     "output_type": "error",
     "traceback": [
      "\u001b[1;31mCanceled future for execute_request message before replies were done"
     ]
    }
   ],
   "source": [
    "# Media móvil de precipitación centrada a d días.\n",
    "ds = ( ds.rolling(time = d, center = True).mean() )"
   ]
  },
  {
   "cell_type": "code",
   "execution_count": 2,
   "metadata": {},
   "outputs": [
    {
     "ename": "",
     "evalue": "",
     "output_type": "error",
     "traceback": [
      "\u001b[1;31mThe Kernel crashed while executing code in the the current cell or a previous cell. Please review the code in the cell(s) to identify a possible cause of the failure. Click <a href='https://aka.ms/vscodeJupyterKernelCrash'>here</a> for more info. View Jupyter <a href='command:jupyter.viewOutput'>log</a> for further details."
     ]
    },
    {
     "ename": "",
     "evalue": "",
     "output_type": "error",
     "traceback": [
      "\u001b[1;31mCanceled future for execute_request message before replies were done"
     ]
    }
   ],
   "source": [
    "# Geopotencial a 925 hPa.\n",
    "n = 0\n",
    "v = 2\n",
    "\n",
    "# Anomalías.\n",
    "a = anom[1]\n",
    "fname = ( region[0] + \"_\" + vars[v] + \"_\" + levels[n]\n",
    "    + \"_daily\" + a + \".grib\" )\n",
    "ds = xr.open_dataset( path_d + fname, engine = \"cfgrib\" )\n",
    "ds = ds.drop_vars([\"step\", \"isobaricInhPa\", \"valid_time\"])\n",
    "# Media móvil de precipitación centrada a d días.\n",
    "ds = ( ds.rolling(time = d, center = True).mean() )\n",
    "# Guardamos el netcdf.\n",
    "ds.to_netcdf( path_r + \"onset_\" + vars[v] + \"_\" + levels[n] + \"_mean_\" \n",
    "    + str(d) + \"_dias\" + a + \".nc\" )"
   ]
  },
  {
   "cell_type": "code",
   "execution_count": null,
   "metadata": {},
   "outputs": [],
   "source": [
    "# Geopotencial a 200 hPa.\n",
    "n = 1\n",
    "v = 2\n",
    "\n",
    "# Normal.\n",
    "a = anom[0]\n",
    "fname = ( region[0] + \"_\" + vars[v] + \"_\" + levels[n]\n",
    "    + \"_daily\" + a + \".grib\" )\n",
    "ds = xr.open_dataset( path_d + fname, engine = \"cfgrib\" )\n",
    "ds = ds.drop_vars([\"step\", \"isobaricInhPa\", \"valid_time\"])\n",
    "# Media móvil de precipitación centrada a d días.\n",
    "ds = ( ds.rolling(time = d, center = True).mean() )\n",
    "# Guardamos el netcdf.\n",
    "ds.to_netcdf( path_r + \"onset_\" + vars[v] + \"_\" + levels[n] + \"_mean_\" \n",
    "    + str(d) + \"_dias\" + a + \".nc\" )"
   ]
  },
  {
   "cell_type": "code",
   "execution_count": null,
   "metadata": {},
   "outputs": [],
   "source": [
    "# Geopotencial a 200 hPa.\n",
    "n = 1\n",
    "v = 2\n",
    "\n",
    "# Anomalías.\n",
    "a = anom[1]\n",
    "fname = ( region[0] + \"_\" + vars[v] + \"_\" + levels[n]\n",
    "    + \"_daily\" + a + \".grib\" )\n",
    "ds = xr.open_dataset( path_d + fname, engine = \"cfgrib\" )\n",
    "ds = ds.drop_vars([\"step\", \"isobaricInhPa\", \"valid_time\"])\n",
    "# Media móvil de precipitación centrada a d días.\n",
    "ds = ( ds.rolling(time = d, center = True).mean() )\n",
    "# Guardamos el netcdf.\n",
    "ds.to_netcdf( path_r + \"onset_\" + vars[v] + \"_\" + levels[n] + \"_mean_\" \n",
    "    + str(d) + \"_dias\" + a + \".nc\" )"
   ]
  },
  {
   "cell_type": "code",
   "execution_count": null,
   "metadata": {},
   "outputs": [],
   "source": [
    "# Temperatura superficial del océano.\n",
    "v = 3\n",
    "\n",
    "# Normal.\n",
    "a = anom[0]\n",
    "fname = region[0] + \"_\" + vars[v] + \"_daily\" + a + \".grib\"\n",
    "ds = xr.open_dataset( path_d + fname, engine = \"cfgrib\" )\n",
    "ds = ds.drop_vars([\"step\", \"isobaricInhPa\", \"valid_time\"])\n",
    "# Media móvil de precipitación centrada a d días.\n",
    "ds = ( ds.rolling(time = d, center = True).mean() )\n",
    "# Guardamos el netcdf.\n",
    "ds.to_netcdf( path_r + \"onset_\" + vars[v] + \"_\" + levels[n] + \"_mean_\" \n",
    "    + str(d) + \"_dias\" + a + \".nc\" )"
   ]
  },
  {
   "cell_type": "code",
   "execution_count": null,
   "metadata": {},
   "outputs": [],
   "source": [
    "# Temperatura superficial del océano.\n",
    "v = 3\n",
    "\n",
    "# Anomalías.\n",
    "a = anom[1]\n",
    "fname = region[0] + \"_\" + vars[v] + \"_daily\" + a + \".grib\"\n",
    "ds = xr.open_dataset( path_d + fname, engine = \"cfgrib\" )\n",
    "# Media móvil de precipitación centrada a d días.\n",
    "ds = ( ds.rolling(time = d, center = True).mean() )\n",
    "# Guardamos el netcdf.\n",
    "ds.to_netcdf( path_r + \"onset_\" + vars[v] + \"_\" + levels[n] + \"_mean_\" \n",
    "    + str(d) + \"_dias\" + a + \".nc\" )"
   ]
  },
  {
   "cell_type": "code",
   "execution_count": null,
   "metadata": {},
   "outputs": [],
   "source": [
    "# OLR\n",
    "v = 4\n",
    "\n",
    "# Normal.\n",
    "a = anom[0]\n",
    "fname = region[0] + \"_\" + vars[v] + \"_daily\" + a + \".grib\"\n",
    "ds = xr.open_dataset( path_d + fname, engine = \"cfgrib\" )\n",
    "ds = ds.drop_vars([\"step\", \"isobaricInhPa\", \"valid_time\"])\n",
    "# Media móvil de precipitación centrada a d días.\n",
    "ds = ( ds.rolling(time = d, center = True).mean() )\n",
    "# Guardamos el netcdf.\n",
    "ds.to_netcdf( path_r + \"onset_\" + vars[v] + \"_\" + levels[n] + \"_mean_\" \n",
    "    + str(d) + \"_dias\" + a + \".nc\" )"
   ]
  },
  {
   "cell_type": "code",
   "execution_count": null,
   "metadata": {},
   "outputs": [],
   "source": [
    "# OLR\n",
    "v = 4\n",
    "\n",
    "# Anomalías.\n",
    "a = anom[1]\n",
    "fname = region[0] + \"_\" + vars[v] + \"_daily\" + a + \".grib\"\n",
    "ds = xr.open_dataset( path_d + fname, engine = \"cfgrib\" )\n",
    "ds = ds.drop_vars([\"step\", \"isobaricInhPa\", \"valid_time\"])\n",
    "# Media móvil de precipitación centrada a d días.\n",
    "ds = ( ds.rolling(time = d, center = True).mean() )\n",
    "# Guardamos el netcdf.\n",
    "ds.to_netcdf( path_r + \"onset_\" + vars[v] + \"_\" + levels[n] + \"_mean_\" \n",
    "    + str(d) + \"_dias\" + a + \".nc\" )"
   ]
  },
  {
   "cell_type": "code",
   "execution_count": null,
   "metadata": {},
   "outputs": [],
   "source": [
    "# Presión superficial\n",
    "v = 5\n",
    "\n",
    "# Normal.\n",
    "a = anom[0]\n",
    "fname = region[0] + \"_\" + vars[v] + \"_daily\" + a + \".grib\"\n",
    "ds = xr.open_dataset( path_d + fname, engine = \"cfgrib\" )\n",
    "ds = ds.drop_vars([\"step\", \"isobaricInhPa\", \"valid_time\"])\n",
    "# Media móvil de precipitación centrada a d días.\n",
    "ds = ( ds.rolling(time = d, center = True).mean() )\n",
    "# Guardamos el netcdf.\n",
    "ds.to_netcdf( path_r + \"onset_\" + vars[v] + \"_\" + levels[n] + \"_mean_\" \n",
    "    + str(d) + \"_dias\" + a + \".nc\" )"
   ]
  },
  {
   "cell_type": "code",
   "execution_count": null,
   "metadata": {},
   "outputs": [],
   "source": [
    "# Presión superficial\n",
    "v = 5\n",
    "\n",
    "# Anomalías.\n",
    "a = anom[1]\n",
    "fname = region[0] + \"_\" + vars[v] + \"_daily\" + a + \".grib\"\n",
    "ds = xr.open_dataset( path_d + fname, engine = \"cfgrib\" )\n",
    "ds = ds.drop_vars([\"step\", \"isobaricInhPa\", \"valid_time\"])\n",
    "# Media móvil de precipitación centrada a d días.\n",
    "ds = ( ds.rolling(time = d, center = True).mean() )\n",
    "# Guardamos el netcdf.\n",
    "ds.to_netcdf( path_r + \"onset_\" + vars[v] + \"_\" + levels[n] + \"_mean_\" \n",
    "    + str(d) + \"_dias\" + a + \".nc\" )"
   ]
  },
  {
   "cell_type": "code",
   "execution_count": null,
   "metadata": {},
   "outputs": [],
   "source": [
    "# Vertical integral of moisture flow\n",
    "v = 6\n",
    "\n",
    "# Normal.\n",
    "a = anom[0]\n",
    "fname = region[0] + \"_\" + vars[v] + \"_daily\" + a + \".grib\"\n",
    "ds = xr.open_dataset( path_d + fname, engine = \"cfgrib\" )\n",
    "ds = ds.drop_vars([\"step\", \"isobaricInhPa\", \"valid_time\"])\n",
    "# Media móvil de precipitación centrada a d días.\n",
    "ds = ( ds.rolling(time = d, center = True).mean() )\n",
    "# Guardamos el netcdf.\n",
    "ds.to_netcdf( path_r + \"onset_\" + vars[v] + \"_\" + levels[n] + \"_mean_\" \n",
    "    + str(d) + \"_dias\" + a + \".nc\" )"
   ]
  },
  {
   "cell_type": "code",
   "execution_count": null,
   "metadata": {},
   "outputs": [],
   "source": [
    "# Vertical integral of moisture flow\n",
    "v = 6\n",
    "\n",
    "# Anomalías.\n",
    "a = anom[1]\n",
    "fname = region[0] + \"_\" + vars[v] + \"_daily\" + a + \".grib\"\n",
    "ds = xr.open_dataset( path_d + fname, engine = \"cfgrib\" )\n",
    "ds = ds.drop_vars([\"step\", \"isobaricInhPa\", \"valid_time\"])\n",
    "# Media móvil de precipitación centrada a d días.\n",
    "ds = ( ds.rolling(time = d, center = True).mean() )\n",
    "# Guardamos el netcdf.\n",
    "ds.to_netcdf( path_r + \"onset_\" + vars[v] + \"_\" + levels[n] + \"_mean_\" \n",
    "    + str(d) + \"_dias\" + a + \".nc\" )"
   ]
  },
  {
   "cell_type": "code",
   "execution_count": null,
   "metadata": {},
   "outputs": [],
   "source": [
    "# Tranporte zonal de vapor\n",
    "v = 7\n",
    "\n",
    "# Normal.\n",
    "a = anom[0]\n",
    "fname = region[0] + \"_\" + vars[v] + \"_daily\" + a + \".grib\"\n",
    "ds = xr.open_dataset( path_d + fname, engine = \"cfgrib\" )\n",
    "ds = ds.drop_vars([\"step\", \"isobaricInhPa\", \"valid_time\"])\n",
    "# Media móvil de precipitación centrada a d días.\n",
    "ds = ( ds.rolling(time = d, center = True).mean() )\n",
    "# Guardamos el netcdf.\n",
    "ds.to_netcdf( path_r + \"onset_\" + vars[v] + \"_\" + levels[n] + \"_mean_\" \n",
    "    + str(d) + \"_dias\" + a + \".nc\" )"
   ]
  },
  {
   "cell_type": "code",
   "execution_count": null,
   "metadata": {},
   "outputs": [],
   "source": [
    "# Tranporte zonal de vapor\n",
    "v = 7\n",
    "\n",
    "# Anomalías.\n",
    "a = anom[1]\n",
    "fname = region[0] + \"_\" + vars[v] + \"_daily\" + a + \".grib\"\n",
    "ds = xr.open_dataset( path_d + fname, engine = \"cfgrib\" )\n",
    "ds = ds.drop_vars([\"step\", \"isobaricInhPa\", \"valid_time\"])\n",
    "# Media móvil de precipitación centrada a d días.\n",
    "ds = ( ds.rolling(time = d, center = True).mean() )\n",
    "# Guardamos el netcdf.\n",
    "ds.to_netcdf( path_r + \"onset_\" + vars[v] + \"_\" + levels[n] + \"_mean_\" \n",
    "    + str(d) + \"_dias\" + a + \".nc\" )"
   ]
  },
  {
   "cell_type": "code",
   "execution_count": null,
   "metadata": {},
   "outputs": [],
   "source": [
    "# Tranporte meridional de vapor\n",
    "v = 8\n",
    "\n",
    "# Normal.\n",
    "a = anom[0]\n",
    "fname = region[0] + \"_\" + vars[v] + \"_daily\" + a + \".grib\"\n",
    "ds = xr.open_dataset( path_d + fname, engine = \"cfgrib\" )\n",
    "ds = ds.drop_vars([\"step\", \"isobaricInhPa\", \"valid_time\"])\n",
    "# Media móvil de precipitación centrada a d días.\n",
    "ds = ( ds.rolling(time = d, center = True).mean() )\n",
    "# Guardamos el netcdf.\n",
    "ds.to_netcdf( path_r + \"onset_\" + vars[v] + \"_\" + levels[n] + \"_mean_\" \n",
    "    + str(d) + \"_dias\" + a + \".nc\" )"
   ]
  },
  {
   "cell_type": "code",
   "execution_count": null,
   "metadata": {},
   "outputs": [],
   "source": [
    "# Tranporte meridional de vapor\n",
    "v = 8\n",
    "\n",
    "# Anomalías.\n",
    "a = anom[1]\n",
    "fname = region[0] + \"_\" + vars[v] + \"_daily\" + a + \".grib\"\n",
    "ds = xr.open_dataset( path_d + fname, engine = \"cfgrib\" )\n",
    "ds = ds.drop_vars([\"step\", \"isobaricInhPa\", \"valid_time\"])\n",
    "# Media móvil de precipitación centrada a d días.\n",
    "ds = ( ds.rolling(time = d, center = True).mean() )\n",
    "# Guardamos el netcdf.\n",
    "ds.to_netcdf( path_r + \"onset_\" + vars[v] + \"_\" + levels[n] + \"_mean_\" \n",
    "    + str(d) + \"_dias\" + a + \".nc\" )"
   ]
  },
  {
   "cell_type": "code",
   "execution_count": null,
   "metadata": {},
   "outputs": [],
   "source": [
    "# Vertically integrated moisture flow\n",
    "v = 9\n",
    "\n",
    "# Normal.\n",
    "a = anom[0]\n",
    "fname = region[0] + \"_\" + vars[v] + \"_daily\" + a + \".grib\"\n",
    "ds = xr.open_dataset( path_d + fname, engine = \"cfgrib\" )\n",
    "ds = ds.drop_vars([\"step\", \"isobaricInhPa\", \"valid_time\"])\n",
    "# Media móvil de precipitación centrada a d días.\n",
    "ds = ( ds.rolling(time = d, center = True).mean() )\n",
    "# Guardamos el netcdf.\n",
    "ds.to_netcdf( path_r + \"onset_\" + vars[v] + \"_\" + levels[n] + \"_mean_\" \n",
    "    + str(d) + \"_dias\" + a + \".nc\" )"
   ]
  },
  {
   "cell_type": "code",
   "execution_count": null,
   "metadata": {},
   "outputs": [],
   "source": [
    "# Vertically integrated moisture flow\n",
    "v = 9\n",
    "\n",
    "# Anomalías.\n",
    "a = anom[1]\n",
    "fname = region[0] + \"_\" + vars[v] + \"_daily\" + a + \".grib\"\n",
    "ds = xr.open_dataset( path_d + fname, engine = \"cfgrib\" )\n",
    "ds = ds.drop_vars([\"step\", \"isobaricInhPa\", \"valid_time\"])\n",
    "# Media móvil de precipitación centrada a d días.\n",
    "ds = ( ds.rolling(time = d, center = True).mean() )\n",
    "# Guardamos el netcdf.\n",
    "ds.to_netcdf( path_r + \"onset_\" + vars[v] + \"_\" + levels[n] + \"_mean_\" \n",
    "    + str(d) + \"_dias\" + a + \".nc\" )"
   ]
  }
 ],
 "metadata": {
  "interpreter": {
   "hash": "cce8d45697d85db6636183b0f945e1ffea3934773870cd67d93bb4bbe05deaec"
  },
  "kernelspec": {
   "display_name": "Python 3.9.9 64-bit ('gv': conda)",
   "language": "python",
   "name": "python3"
  },
  "language_info": {
   "codemirror_mode": {
    "name": "ipython",
    "version": 3
   },
   "file_extension": ".py",
   "mimetype": "text/x-python",
   "name": "python",
   "nbconvert_exporter": "python",
   "pygments_lexer": "ipython3",
   "version": "3.9.9"
  },
  "orig_nbformat": 4
 },
 "nbformat": 4,
 "nbformat_minor": 2
}
