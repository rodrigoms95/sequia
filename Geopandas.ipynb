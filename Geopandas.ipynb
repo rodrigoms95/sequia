{
 "cells": [
  {
   "cell_type": "code",
   "execution_count": 1,
   "metadata": {},
   "outputs": [],
   "source": [
    "import geopandas as gpd"
   ]
  },
  {
   "cell_type": "code",
   "execution_count": 3,
   "metadata": {},
   "outputs": [
    {
     "data": {
      "text/html": "<div>\n<style scoped>\n    .dataframe tbody tr th:only-of-type {\n        vertical-align: middle;\n    }\n\n    .dataframe tbody tr th {\n        vertical-align: top;\n    }\n\n    .dataframe thead th {\n        text-align: right;\n    }\n</style>\n<table border=\"1\" class=\"dataframe\">\n  <thead>\n    <tr style=\"text-align: right;\">\n      <th></th>\n      <th>AREA</th>\n      <th>PERIMETER</th>\n      <th>COV_</th>\n      <th>COV_ID</th>\n      <th>CLAVE</th>\n      <th>ORG_CUENCA</th>\n      <th>CLV_OC</th>\n      <th>SHAPE_AREA</th>\n      <th>SHAPE_LEN</th>\n      <th>geometry</th>\n    </tr>\n  </thead>\n  <tbody>\n    <tr>\n      <th>0</th>\n      <td>13.380497</td>\n      <td>37.796092</td>\n      <td>2</td>\n      <td>1</td>\n      <td>1.0</td>\n      <td>Península de Baja California</td>\n      <td>I</td>\n      <td>1.473484e+11</td>\n      <td>5.183581e+06</td>\n      <td>POLYGON ((-114.81259 32.49378, -114.81308 32.4...</td>\n    </tr>\n    <tr>\n      <th>1</th>\n      <td>19.109634</td>\n      <td>32.018361</td>\n      <td>3</td>\n      <td>2</td>\n      <td>2.0</td>\n      <td>Noroeste</td>\n      <td>II</td>\n      <td>2.066163e+11</td>\n      <td>3.587920e+06</td>\n      <td>POLYGON ((-114.81259 32.49378, -114.81237 32.4...</td>\n    </tr>\n    <tr>\n      <th>2</th>\n      <td>0.000003</td>\n      <td>0.006409</td>\n      <td>4</td>\n      <td>3</td>\n      <td>1.0</td>\n      <td>Península de Baja California</td>\n      <td>I</td>\n      <td>1.473484e+11</td>\n      <td>5.183581e+06</td>\n      <td>POLYGON ((-117.26224 32.42231, -117.26235 32.4...</td>\n    </tr>\n    <tr>\n      <th>3</th>\n      <td>0.000007</td>\n      <td>0.013083</td>\n      <td>5</td>\n      <td>4</td>\n      <td>1.0</td>\n      <td>Península de Baja California</td>\n      <td>I</td>\n      <td>1.473484e+11</td>\n      <td>5.183581e+06</td>\n      <td>POLYGON ((-117.25700 32.41854, -117.25726 32.4...</td>\n    </tr>\n    <tr>\n      <th>4</th>\n      <td>0.000112</td>\n      <td>0.066695</td>\n      <td>6</td>\n      <td>5</td>\n      <td>1.0</td>\n      <td>Península de Baja California</td>\n      <td>I</td>\n      <td>1.473484e+11</td>\n      <td>5.183581e+06</td>\n      <td>POLYGON ((-117.24761 32.41822, -117.24654 32.4...</td>\n    </tr>\n    <tr>\n      <th>...</th>\n      <td>...</td>\n      <td>...</td>\n      <td>...</td>\n      <td>...</td>\n      <td>...</td>\n      <td>...</td>\n      <td>...</td>\n      <td>...</td>\n      <td>...</td>\n      <td>...</td>\n    </tr>\n    <tr>\n      <th>358</th>\n      <td>0.002115</td>\n      <td>0.209529</td>\n      <td>360</td>\n      <td>359</td>\n      <td>10.0</td>\n      <td>Golfo Centro</td>\n      <td>x</td>\n      <td>1.044696e+11</td>\n      <td>2.965592e+06</td>\n      <td>POLYGON ((-97.24333 17.17346, -97.26683 17.187...</td>\n    </tr>\n    <tr>\n      <th>359</th>\n      <td>0.000002</td>\n      <td>0.007123</td>\n      <td>361</td>\n      <td>360</td>\n      <td>5.0</td>\n      <td>Pacífico Sur</td>\n      <td>V</td>\n      <td>7.773575e+10</td>\n      <td>3.306178e+06</td>\n      <td>POLYGON ((-95.57617 15.94129, -95.57607 15.941...</td>\n    </tr>\n    <tr>\n      <th>360</th>\n      <td>0.000002</td>\n      <td>0.006035</td>\n      <td>362</td>\n      <td>361</td>\n      <td>5.0</td>\n      <td>Pacífico Sur</td>\n      <td>V</td>\n      <td>7.773575e+10</td>\n      <td>3.306178e+06</td>\n      <td>POLYGON ((-97.35229 15.93764, -97.35195 15.937...</td>\n    </tr>\n    <tr>\n      <th>361</th>\n      <td>0.000012</td>\n      <td>0.013614</td>\n      <td>363</td>\n      <td>362</td>\n      <td>5.0</td>\n      <td>Pacífico Sur</td>\n      <td>V</td>\n      <td>7.773575e+10</td>\n      <td>3.306178e+06</td>\n      <td>POLYGON ((-96.16039 15.71777, -96.16147 15.717...</td>\n    </tr>\n    <tr>\n      <th>362</th>\n      <td>0.000006</td>\n      <td>0.010305</td>\n      <td>364</td>\n      <td>363</td>\n      <td>5.0</td>\n      <td>Pacífico Sur</td>\n      <td>V</td>\n      <td>7.773575e+10</td>\n      <td>3.306178e+06</td>\n      <td>POLYGON ((-96.22791 15.68799, -96.22757 15.687...</td>\n    </tr>\n  </tbody>\n</table>\n<p>363 rows × 10 columns</p>\n</div>",
      "text/plain": "          AREA  PERIMETER  COV_  COV_ID  CLAVE                    ORG_CUENCA  \\\n0    13.380497  37.796092     2       1    1.0  Península de Baja California   \n1    19.109634  32.018361     3       2    2.0                      Noroeste   \n2     0.000003   0.006409     4       3    1.0  Península de Baja California   \n3     0.000007   0.013083     5       4    1.0  Península de Baja California   \n4     0.000112   0.066695     6       5    1.0  Península de Baja California   \n..         ...        ...   ...     ...    ...                           ...   \n358   0.002115   0.209529   360     359   10.0                  Golfo Centro   \n359   0.000002   0.007123   361     360    5.0                  Pacífico Sur   \n360   0.000002   0.006035   362     361    5.0                  Pacífico Sur   \n361   0.000012   0.013614   363     362    5.0                  Pacífico Sur   \n362   0.000006   0.010305   364     363    5.0                  Pacífico Sur   \n\n    CLV_OC    SHAPE_AREA     SHAPE_LEN  \\\n0        I  1.473484e+11  5.183581e+06   \n1       II  2.066163e+11  3.587920e+06   \n2        I  1.473484e+11  5.183581e+06   \n3        I  1.473484e+11  5.183581e+06   \n4        I  1.473484e+11  5.183581e+06   \n..     ...           ...           ...   \n358      x  1.044696e+11  2.965592e+06   \n359      V  7.773575e+10  3.306178e+06   \n360      V  7.773575e+10  3.306178e+06   \n361      V  7.773575e+10  3.306178e+06   \n362      V  7.773575e+10  3.306178e+06   \n\n                                              geometry  \n0    POLYGON ((-114.81259 32.49378, -114.81308 32.4...  \n1    POLYGON ((-114.81259 32.49378, -114.81237 32.4...  \n2    POLYGON ((-117.26224 32.42231, -117.26235 32.4...  \n3    POLYGON ((-117.25700 32.41854, -117.25726 32.4...  \n4    POLYGON ((-117.24761 32.41822, -117.24654 32.4...  \n..                                                 ...  \n358  POLYGON ((-97.24333 17.17346, -97.26683 17.187...  \n359  POLYGON ((-95.57617 15.94129, -95.57607 15.941...  \n360  POLYGON ((-97.35229 15.93764, -97.35195 15.937...  \n361  POLYGON ((-96.16039 15.71777, -96.16147 15.717...  \n362  POLYGON ((-96.22791 15.68799, -96.22757 15.687...  \n\n[363 rows x 10 columns]"
     },
     "execution_count": 3,
     "metadata": {},
     "output_type": "execute_result"
    }
   ],
   "source": [
    "fdir = \"data/Cuencas/Regiones Hidrológicas Administrativas (Organismos de Cuencas) Coordenadas Geográficas/\"\n",
    "fname = \"rha250kgw.shp\"\n",
    "\n",
    "gdf = gpd.read_file(fdir + fname)\n",
    "\n",
    "gdf"
   ]
  }
 ],
 "metadata": {
  "kernelspec": {
   "display_name": "Python 3.7.7 64-bit ('geo': conda)",
   "name": "python377jvsc74a57bd06e12bfb4f23760ff69d31722ed7f9295a1bf8798ff355c9bd5847691986ed4a8"
  },
  "language_info": {
   "codemirror_mode": {
    "name": "ipython",
    "version": 3
   },
   "file_extension": ".py",
   "mimetype": "text/x-python",
   "name": "python",
   "nbconvert_exporter": "python",
   "pygments_lexer": "ipython3",
   "version": "3.7.7"
  },
  "metadata": {
   "interpreter": {
    "hash": "e9ca57bb6c2f369ec39243c0fb8dccf99b9a19261b134d12aa2e527578a0e7a6"
   }
  },
  "orig_nbformat": 2
 },
 "nbformat": 4,
 "nbformat_minor": 2
}